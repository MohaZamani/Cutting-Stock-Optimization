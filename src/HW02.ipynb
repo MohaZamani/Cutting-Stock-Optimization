{
 "cells": [
  {
   "cell_type": "markdown",
   "metadata": {},
   "source": [
    "# HW02 Solutions:\n"
   ]
  },
  {
   "cell_type": "markdown",
   "metadata": {},
   "source": [
    "## libraries\n"
   ]
  },
  {
   "cell_type": "code",
   "execution_count": 275,
   "metadata": {},
   "outputs": [],
   "source": [
    "import numpy as np\n",
    "import random\n",
    "import math\n",
    "from time import time\n",
    "import matplotlib.pyplot as plt"
   ]
  },
  {
   "cell_type": "markdown",
   "metadata": {},
   "source": [
    "### Class: `Input`\n",
    "\n",
    "#### Description\n",
    "\n",
    "This class reads input data from a your files in this directory, I changed input structures and all inputs have same structure as the first input\n",
    "\n",
    "#### Methods\n",
    "\n",
    "##### `read(inputId: int) -> Tuple[int, List[int], int]`\n",
    "\n",
    "- **Description:** Reads input data from a file for a specific input ID, ID is in $[1, 4]$\n",
    "- **Parameters:**\n",
    "\n",
    "  - `inputId` (int): The ID of the input file to read.\n",
    "\n",
    "- **Returns:**\n",
    "  - Tuple[int, List[int], int]: A tuple containing the stock length, list of requests, and the expected answer.\n"
   ]
  },
  {
   "cell_type": "code",
   "execution_count": null,
   "metadata": {},
   "outputs": [],
   "source": [
    "class Input:\n",
    "    def read(inputId :int):\n",
    "        with open('../data/input%d.stock'%inputId, 'r') as file:\n",
    "            content = file.read().splitlines()\n",
    "\n",
    "        stock_length = int(content[0].split(': ')[1])\n",
    "        requests = list(map(int, content[3].split(', ')))\n",
    "        answer = int(content[5].split(': ')[1])\n",
    "\n",
    "        return stock_length, requests, answer"
   ]
  },
  {
   "cell_type": "markdown",
   "metadata": {},
   "source": [
    "### Class: `PermutationMethods`\n",
    "\n",
    "#### Description\n",
    "\n",
    "This class provides methods for permutating elements in a 2D list that this represnts a rolls so every element of this is a roll, I will use these methods for `HillClimbing` and `SA` algorithms when I want to generate neighbors.\n",
    "\n",
    "#### Methods\n",
    "\n",
    "##### `permutateRolls(tmp: List[List], isLastNeighbor: bool = False) -> List`\n",
    "\n",
    "- **Description:** Permutates the rolls in a 2D list, so I will permute some elements of rolls and swap them.\n",
    "- **Parameters:**\n",
    "\n",
    "  - `tmp` (List[List]): The 2D list that represents rolls to be permuted.\n",
    "  - `isLastNeighbor` (bool, optional): Flag indicating whether to shuffle the last neighbor randomly. Default is `False`.\n",
    "\n",
    "- **Returns:**\n",
    "  - List: A permuted list.\n",
    "\n",
    "##### `permutateElements(tmp: List[List], isLastNeighbor: bool = False) -> List`\n",
    "\n",
    "- **Description:** Permutates the elements in a 2D list, In this method I merge all rolls to make a permutation of the requests and then I will swap some elements randomly\n",
    "- **Parameters:**\n",
    "\n",
    "  - `tmp` (List[List]): The 2D list that represents rolls to be permuted.\n",
    "  - `isLastNeighbor` (bool, optional): Flag indicating whether to shuffle the last neighbor randomly. Default is `False`.\n",
    "\n",
    "- **Returns:**\n",
    "  - List: A permuted list.\n",
    "\n",
    "##### `permutateRollsAndRandomLastNeighbor(tmp: List[List], isLastNeighbor: bool = False) -> List`\n",
    "\n",
    "- **Description:** Permutates the rolls in a 2D list like `permutateRolls` but I will shuffles the last neighbor randomly.\n",
    "- **Parameters:**\n",
    "\n",
    "  - `tmp` (List[List]): The 2D list that represents rolls to be permuted.\n",
    "  - `isLastNeighbor` (bool, optional): Flag indicating whether to shuffle the last neighbor randomly. Default is `False`.\n",
    "\n",
    "- **Returns:**\n",
    "  - List: A permuted list.\n"
   ]
  },
  {
   "cell_type": "code",
   "execution_count": 269,
   "metadata": {},
   "outputs": [],
   "source": [
    "class PermutationMethods:\n",
    "\n",
    "    def permutateRolls(tmp: list[list], isLastNeighbor = False)-> list:\n",
    "        for _ in range(3):\n",
    "            idx = range(len(tmp))\n",
    "            i1, i2 = random.sample(idx, 2)\n",
    "            tmp[i1], tmp[i2] = tmp[i2], tmp[i1]\n",
    "\n",
    "        tmp = [tmp[i][j] for i in range(len(tmp)) for j in range(len(tmp[i]))]\n",
    "        return tmp\n",
    "    \n",
    "    def permutateElements(tmp: list[list],isLastNeighbor = False) ->list:\n",
    "        tmp = [tmp[i][j] for i in range(len(tmp)) for j in range(len(tmp[i]))]\n",
    "        for _ in range(2):\n",
    "                idx = range(len(tmp))\n",
    "                i1, i2 = random.sample(idx, 2)\n",
    "                tmp[i1], tmp[i2] = tmp[i2], tmp[i1]\n",
    "\n",
    "        return tmp\n",
    "\n",
    "    def permutateRollsAndRandomLastNeighbor(tmp: list[list], isLastNeighbor = False) ->list:\n",
    "        for _ in range(3):\n",
    "            idx = range(len(tmp))\n",
    "            i1, i2 = random.sample(idx, 2)\n",
    "            tmp[i1], tmp[i2] = tmp[i2], tmp[i1]\n",
    "\n",
    "        tmp = [tmp[i][j] for i in range(len(tmp)) for j in range(len(tmp[i]))]\n",
    "\n",
    "        if isLastNeighbor:\n",
    "            random.shuffle(tmp)\n",
    "\n",
    "        return tmp       "
   ]
  },
  {
   "cell_type": "markdown",
   "metadata": {},
   "source": [
    "## Hill Climbing\n"
   ]
  },
  {
   "cell_type": "markdown",
   "metadata": {},
   "source": [
    "<div style=\"text-align: center;\">\n",
    "    <img src=\"../assets/1.3_1-Hill-climbing.svg\" alt=\"drawing\" width=\"500\"/>\n",
    "</div>"
   ]
  },
  {
   "cell_type": "markdown",
   "metadata": {},
   "source": [
    "#### Description\n",
    "\n",
    "This class implements the Hill Climbing algorithm for solving the cutting stock problem. The cutting stock problem involves optimizing the arrangement of requests into rolls to minimize the number of rolls used.\n",
    "\n",
    "#### Constants\n",
    "\n",
    "- `NUMBER_OF_NEIGHBORS`: The number of neighbors generated for each iteration.\n",
    "- `HILL_CLIMBING_MAX_ITERATION`: The maximum number of iterations for the Hill Climbing algorithm.\n",
    "\n",
    "#### Methods\n",
    "\n",
    "##### `__init__(self, neighborPermutationFunc: Callable[[List[List], bool], List[List]]) -> None`\n",
    "\n",
    "- **Description:** Constructor for the `HillClimbing` class.\n",
    "- **Parameters:**\n",
    "  - `neighborPermutationFunc` (Callable): A function for permuting neighbors in the cutting stock problem.\n",
    "\n",
    "##### `execute(self, inputId: int) -> None`\n",
    "\n",
    "- **Description:** Executes the Hill Climbing algorithm for a given input.\n",
    "- **Parameters:**\n",
    "  - `inputId` (int): The identifier of the input data file.\n",
    "\n",
    "#### Internal Methods\n",
    "\n",
    "##### `__f(self, x: List[List]) -> int`\n",
    "\n",
    "- **Description:** Evaluation function to calculate the number of rolls for a given arrangement.\n",
    "- **Parameters:**\n",
    "\n",
    "  - `x` (List[List]): The arrangement of requests into rolls.\n",
    "\n",
    "- **Returns:**\n",
    "  - int: The number of rolls.\n",
    "\n",
    "##### `__generateNeighbors(self, x: List) -> List[List]`\n",
    "\n",
    "- **Description:** Generates neighboring arrangements for a given arrangement.\n",
    "- **Parameters:**\n",
    "\n",
    "  - `x` (List): The current arrangement.\n",
    "\n",
    "- **Returns:**\n",
    "  - List[List]: A list of neighboring arrangements.\n",
    "\n",
    "##### `__bestNeighbor(self, neighbors: List[List]) -> List`\n",
    "\n",
    "- **Description:** Determines the best neighboring arrangement based on the evaluation function. the best one has minimum rolls.\n",
    "- **Parameters:**\n",
    "\n",
    "  - `neighbors` (List[List]): The list of neighboring arrangements.\n",
    "\n",
    "- **Returns:**\n",
    "  - List: The best neighboring arrangement.\n"
   ]
  },
  {
   "cell_type": "code",
   "execution_count": 302,
   "metadata": {},
   "outputs": [],
   "source": [
    "class HillClimbing:\n",
    "    \n",
    "    NUMBER_OF_NEIGHBORS = 4\n",
    "    HILL_CLIMBING_MAX_ITERATION = 8000\n",
    "\n",
    "    def __init__(self, neighborPrmutationFunc) -> None:\n",
    "        self.stock_length = 0\n",
    "        self.neighborPrmutationFunc = neighborPrmutationFunc\n",
    "\n",
    "    def __buildRolls(self , requests: list)->list:\n",
    "        rolls = [[]]\n",
    "        ind = 0\n",
    "        for request in requests:\n",
    "            if(sum(rolls[ind]) + request <= self.stock_length):\n",
    "                rolls[ind].append(request)\n",
    "            else:\n",
    "                rolls.append([request])\n",
    "                ind+=1\n",
    "\n",
    "        return rolls    \n",
    "\n",
    "    # evaluation function\n",
    "    def __f(self, x:list[list])->int:\n",
    "        rolls = self.__buildRolls(x)\n",
    "        return len(rolls)\n",
    "    \n",
    "    def __generateNeighbors(self, x: list)-> list[list]:\n",
    "        res = []\n",
    "        rolls = self.__buildRolls(x)\n",
    "        for index in range(self.NUMBER_OF_NEIGHBORS):\n",
    "            tmp = [i.copy() for i in rolls]\n",
    "            \n",
    "            tmp = self.neighborPrmutationFunc(tmp, index == self.NUMBER_OF_NEIGHBORS-1)\n",
    "        \n",
    "            res.append(tmp)\n",
    "\n",
    "        return res\n",
    "    \n",
    "    def __bestNeighbor(self , neighbors:list[list])->list:\n",
    "        tmp = [self.__f(neighbor) for neighbor in neighbors]\n",
    "        return neighbors[np.argmin(tmp)]\n",
    "\n",
    "    def execute(self, inputId:int)-> int:\n",
    "        self.stock_length, requests, answer = Input.read(inputId)\n",
    "        random.shuffle(requests)\n",
    "        x2 , x1 = requests, requests\n",
    "        iter = 0\n",
    "        while(iter < self.HILL_CLIMBING_MAX_ITERATION):\n",
    "            neighbors = self.__generateNeighbors(x1)\n",
    "            x2 = self.__bestNeighbor(neighbors)\n",
    "            \n",
    "            if(self.__f(x2) <= self.__f(x1)):\n",
    "                x1 = x2\n",
    "                if x1 == x2: iter+=1\n",
    "            else:\n",
    "                iter+=1   \n",
    "\n",
    "        print(\"Rolls number for input \" , inputId, \" is : \", self.__f(x1))     \n",
    "        return self.__f(x1)"
   ]
  },
  {
   "cell_type": "markdown",
   "metadata": {},
   "source": [
    "#### HillClimbing Results\n"
   ]
  },
  {
   "cell_type": "markdown",
   "metadata": {},
   "source": [
    "##### 1. with elements permutation\n"
   ]
  },
  {
   "cell_type": "code",
   "execution_count": 7,
   "metadata": {},
   "outputs": [
    {
     "name": "stdout",
     "output_type": "stream",
     "text": [
      "Rolls number for input  1  is :  52\n",
      "Rolls number for input  2  is :  80\n",
      "Rolls number for input  3  is :  98\n",
      "Rolls number for input  4  is :  220\n"
     ]
    }
   ],
   "source": [
    "hilmClimbing = HillClimbing(PermutationMethods.permutateElements)\n",
    "for inputId in range(1,5):\n",
    "     hilmClimbing.execute(inputId)"
   ]
  },
  {
   "cell_type": "markdown",
   "metadata": {},
   "source": [
    "##### 2. with rolls permutation\n"
   ]
  },
  {
   "cell_type": "code",
   "execution_count": 8,
   "metadata": {},
   "outputs": [
    {
     "name": "stdout",
     "output_type": "stream",
     "text": [
      "Rolls number for input  1  is :  51\n",
      "Rolls number for input  2  is :  78\n",
      "Rolls number for input  3  is :  94\n",
      "Rolls number for input  4  is :  213\n"
     ]
    }
   ],
   "source": [
    "hilmClimbing = HillClimbing(PermutationMethods.permutateRolls)\n",
    "for inputId in range(1,5):\n",
    "     hilmClimbing.execute(inputId)"
   ]
  },
  {
   "cell_type": "markdown",
   "metadata": {},
   "source": [
    "##### 3. with rolls permutation and random last neighbor\n"
   ]
  },
  {
   "cell_type": "code",
   "execution_count": 9,
   "metadata": {},
   "outputs": [
    {
     "name": "stdout",
     "output_type": "stream",
     "text": [
      "Rolls number for input  1  is :  51\n",
      "Rolls number for input  2  is :  78\n",
      "Rolls number for input  3  is :  96\n",
      "Rolls number for input  4  is :  215\n"
     ]
    }
   ],
   "source": [
    "hilmClimbing = HillClimbing(PermutationMethods.permutateRollsAndRandomLastNeighbor)\n",
    "for inputId in range(1,5):\n",
    "     hilmClimbing.execute(inputId)"
   ]
  },
  {
   "cell_type": "markdown",
   "metadata": {},
   "source": [
    "## Simulate Annealing\n"
   ]
  },
  {
   "cell_type": "markdown",
   "metadata": {},
   "source": [
    "<div style=\"text-align: center;\">\n",
    "    <img src=\"../assets/w360.jpeg\" alt=\"drawing\" width=\"500\"/>\n",
    "</div>\n"
   ]
  },
  {
   "cell_type": "markdown",
   "metadata": {},
   "source": [
    "#### Description\n",
    "\n",
    "This class implements the Simulated Annealing algorithm for solving the cutting stock problem. Simulated Annealing (SA) is an effective and general form of optimization. It is useful in finding global optima in the presence of large numbers of local optima\n",
    "\n",
    "#### Constants\n",
    "\n",
    "- `T_MIN`: The minimum temperature for the simulated annealing algorithm.\n",
    "\n",
    "#### Constructor\n",
    "\n",
    "##### `__init__(self, tMin: float, initialT: float, coolingRate: float, neighborPermutationFunc: Callable[[List], List]) -> None`\n",
    "\n",
    "- **Description:** Constructor for the `SimulateAnnealing` class.\n",
    "- **Parameters:**\n",
    "  - `tMin` (float): The minimum temperature for the simulated annealing algorithm.\n",
    "  - `initialT` (float): The initial temperature.\n",
    "  - `coolingRate` (float): The cooling rate for decreasing the temperature.\n",
    "  - `neighborPermutationFunc` (Callable): A function for permuting neighbors in the cutting stock problem.\n",
    "\n",
    "#### Methods\n",
    "\n",
    "##### `execute(self, inputId: int) -> None`\n",
    "\n",
    "- **Description:** Executes the Simulated Annealing algorithm for a given input.\n",
    "- **Parameters:**\n",
    "  - `inputId` (int): The identifier of the input data file.\n",
    "\n",
    "## Internal Methods\n",
    "\n",
    "##### `__buildRolls(self, requests: List) -> List[List]`\n",
    "\n",
    "- **Description:** Builds rolls from a given list of requests.\n",
    "- **Parameters:**\n",
    "\n",
    "  - `requests` (List): The list of item requests.\n",
    "\n",
    "- **Returns:**\n",
    "  - List[List]: The arrangement of items into rolls.\n",
    "\n",
    "##### `__generateNeighbor(self, x: List) -> List[List]`\n",
    "\n",
    "- **Description:** Generates a neighboring arrangement for a given arrangement.\n",
    "- **Parameters:**\n",
    "\n",
    "  - `x` (List): The current arrangement.\n",
    "\n",
    "- **Returns:**\n",
    "  - List[List]: The neighboring arrangement.\n",
    "\n",
    "##### `__f(self, x: List[List]) -> int`\n",
    "\n",
    "- **Description:** Evaluation function to calculate the number of rolls for a given arrangement. my evaluation function is rolls length.\n",
    "- **Parameters:**\n",
    "\n",
    "  - `x` (List[List]): The arrangement of items into rolls.\n",
    "\n",
    "- **Returns:**\n",
    "  - int: The number of rolls.\n",
    "\n",
    "##### `__acceptanceFunction(self, deltaE: float) -> bool`\n",
    "\n",
    "- **Description:** Acceptance function for determining whether to accept make a new arrangement.\n",
    "- **Parameters:**\n",
    "\n",
    "  - `deltaE` (float): The change in the evaluation function.\n",
    "\n",
    "- **Returns:**\n",
    "  - bool: True if the new arrangement is accepted, False otherwise.\n"
   ]
  },
  {
   "cell_type": "code",
   "execution_count": 319,
   "metadata": {},
   "outputs": [],
   "source": [
    "class SimulateAnnealing:\n",
    "    def __init__(self, tMin:float, initialT: float, coolingRate: float, neighborPrmutationFunc) -> None:\n",
    "        self.T_MIN = tMin\n",
    "        self.T = initialT\n",
    "        self.coolingRate = coolingRate\n",
    "        self.neighborPrmutationFunc = neighborPrmutationFunc\n",
    "\n",
    "    def __buildRolls(self , requests: list)->list:\n",
    "        rolls = [[]]\n",
    "        ind = 0\n",
    "        for request in requests:\n",
    "            if(sum(rolls[ind]) + request <= self.stock_length):\n",
    "                rolls[ind].append(request)\n",
    "            else:\n",
    "                rolls.append([request])\n",
    "                ind+=1\n",
    "\n",
    "        return rolls \n",
    "    \n",
    "    def __generateNeighbor(self, x: list)-> list[list]:\n",
    "        rolls = self.__buildRolls(x)\n",
    "        tmp = [i.copy() for i in rolls] \n",
    "        \n",
    "        return self.neighborPrmutationFunc(tmp)\n",
    " \n",
    "    \n",
    "    # evaluation function\n",
    "    def __f(self, x:list[list])->int:\n",
    "        rolls = self.__buildRolls(x)\n",
    "        return len(rolls)\n",
    "    \n",
    "\n",
    "    def __acceptanceFunction(self, deltaE : float)->bool:\n",
    "        if(deltaE < 0):\n",
    "            return True\n",
    "\n",
    "        if(random.random() < math.exp(-1*(deltaE / self.T))) :\n",
    "            return True\n",
    "        \n",
    "        return False\n",
    "        \n",
    "    def execute(self, inputId: int)-> int:\n",
    "        self.stock_length, requests, answer = Input.read(inputId)\n",
    "        random.shuffle(requests)\n",
    "        x2 , x1 = requests, requests\n",
    "\n",
    "        while(self.T > self.T_MIN):\n",
    "            x2 = self.__generateNeighbor(x1)\n",
    "            \n",
    "            deltaE = float(self.__f(x2) - self.__f(x1))\n",
    "\n",
    "            if(self.__acceptanceFunction(deltaE)):\n",
    "                x1 = x2\n",
    "\n",
    "            self.T = self.T * self.coolingRate\n",
    "\n",
    "        print(\"Rolls number for input \" , inputId, \" is : \", self.__f(x1))\n",
    "        return self.__f(x1)"
   ]
  },
  {
   "cell_type": "markdown",
   "metadata": {},
   "source": [
    "#### SimulateAnnealing Results\n"
   ]
  },
  {
   "cell_type": "markdown",
   "metadata": {},
   "source": [
    "##### 1. with rolls permutation\n"
   ]
  },
  {
   "cell_type": "code",
   "execution_count": 53,
   "metadata": {},
   "outputs": [
    {
     "name": "stdout",
     "output_type": "stream",
     "text": [
      "Rolls number for input  1  is :  51\n",
      "Rolls number for input  2  is :  79\n",
      "Rolls number for input  3  is :  95\n",
      "Rolls number for input  4  is :  216\n"
     ]
    }
   ],
   "source": [
    "for inputId in range(1,5):\n",
    "    sa = SimulateAnnealing(tMin=0.00001, initialT= 100000.0, coolingRate= 0.99, neighborPrmutationFunc=PermutationMethods.permutateRolls)\n",
    "    sa.execute(inputId)"
   ]
  },
  {
   "cell_type": "markdown",
   "metadata": {},
   "source": [
    "##### 2. with elements permutation\n"
   ]
  },
  {
   "cell_type": "code",
   "execution_count": 54,
   "metadata": {},
   "outputs": [
    {
     "name": "stdout",
     "output_type": "stream",
     "text": [
      "Rolls number for input  1  is :  53\n",
      "Rolls number for input  2  is :  82\n",
      "Rolls number for input  3  is :  103\n",
      "Rolls number for input  4  is :  231\n"
     ]
    }
   ],
   "source": [
    "for inputId in range(1,5):\n",
    "     sa = SimulateAnnealing(tMin=0.00001, initialT= 100000.0, coolingRate= 0.99, neighborPrmutationFunc=PermutationMethods.permutateElements)\n",
    "     sa.execute(inputId)"
   ]
  },
  {
   "cell_type": "markdown",
   "metadata": {},
   "source": [
    "## Genetic Algorithm:\n"
   ]
  },
  {
   "cell_type": "markdown",
   "metadata": {},
   "source": [
    "<div style=\"text-align: center;\">\n",
    "    <img src=\"../assets/41598_2020_57432_Fig1_HTML.png\" alt=\"drawing\" width=\"350\"/>\n",
    "</div>"
   ]
  },
  {
   "cell_type": "markdown",
   "metadata": {},
   "source": [
    "### Class: `Individual`\n",
    "\n",
    "#### Description\n",
    "\n",
    "This class represents an individual in a genetic algorithm for solving the cutting stock problem. Each individual has a chromosome that encodes a potential solution(a permutation of requests indexes), and its fitness is determined by how well the solution satisfies the constraints of the problem and we know that our goal is minimize the rolls length so if our fitness be smaller we are happy.In this class I added all functionality for representing a chrrmosome.\n",
    "\n",
    "#### Constructor\n",
    "\n",
    "##### `__init__(self, chromosome: List, stockLength: int, requests: List) -> None`\n",
    "\n",
    "- **Description:** Constructor for the `Individual` class.\n",
    "- **Parameters:**\n",
    "  - `chromosome` (List): The chromosome representing the individual's solution.(an arrangement of requests)\n",
    "  - `stockLength` (int): The stock length of input.\n",
    "  - `requests` (List): The list of item requests.\n",
    "\n",
    "#### Methods\n",
    "\n",
    "##### `createChromosome(genes: List) -> np.array`\n",
    "\n",
    "- **Description:** Static method to create a chromosome by shuffling a list of genes. it will return a randomly generated indexes of requests.\n",
    "- **Parameters:**\n",
    "\n",
    "  - `genes` (List): The list of genes, it's a list of indexes of requests, its from 0 to length of requests.\n",
    "\n",
    "- **Returns:**\n",
    "  - np.array: The shuffled chromosome.\n",
    "\n",
    "##### `calculateFitness(self) -> int`\n",
    "\n",
    "- **Description:** Calculates the fitness of the individual based on the number of rolls needed for its solution.\n",
    "\n",
    "- **Returns:**\n",
    "  - int: The fitness value (number of rolls).\n",
    "\n",
    "##### `crossover(self, parent2: Individual) -> np.array[Individual]`\n",
    "\n",
    "- **Description:** Performs crossover with another individual to produce two offspring.\n",
    "\n",
    "- **Parameters:**\n",
    "\n",
    "  - `parent2` (Individual): The second parent for crossover.\n",
    "\n",
    "- **Returns:**\n",
    "  - np.array[Individual]: An array containing two offspring individuals.\n",
    "\n",
    "##### `mutation(self) -> Individual`\n",
    "\n",
    "- **Description:** Performs mutation on the individual's chromosome. I will swap some items of chromosome randomly.\n",
    "\n",
    "- **Returns:**\n",
    "  - Individual: A new individual resulting from mutation.\n"
   ]
  },
  {
   "cell_type": "code",
   "execution_count": 254,
   "metadata": {},
   "outputs": [],
   "source": [
    "class Individual(object):\n",
    "\n",
    "    def __init__(self, chromosome: list, stockLength: int, requests: list) -> None:\n",
    "        self.chromosome = chromosome\n",
    "        self.stockLength = stockLength\n",
    "        self.requests = requests\n",
    "        self.fitness = self.calculateFitness()\n",
    "\n",
    "    def createChromosome(genes)-> np.array:\n",
    "        random.shuffle(genes)\n",
    "        return genes\n",
    "    \n",
    "    def calculateFitness(self):\n",
    "        rolls = [[]]\n",
    "        ind = 0\n",
    "        for geneIndex in self.chromosome:\n",
    "            if(sum(rolls[ind]) + self.requests[int(geneIndex)] <= self.stockLength):\n",
    "                rolls[ind].append(self.requests[int(geneIndex)])\n",
    "            else:\n",
    "                rolls.append([self.requests[int(geneIndex)]])\n",
    "                ind+=1\n",
    "\n",
    "        return len(rolls)\n",
    "\n",
    "    def crossover(self, paren2):\n",
    "        i = random.randint(0, len(self.chromosome)-1)\n",
    "        j = random.randint(i, len(self.chromosome)-1)\n",
    "\n",
    "        child1 = np.zeros(len(self.chromosome))\n",
    "        child2 = np.zeros(len(self.chromosome))\n",
    "\n",
    "        child1[i:j] = self.chromosome[i:j]\n",
    "        child2[i:j] = paren2.chromosome[i:j]\n",
    "\n",
    "        c1index = j\n",
    "        for index in range(len(self.chromosome)):\n",
    "            occur_count = (child1 == paren2.chromosome[index]).sum()\n",
    "            total_count = (paren2.chromosome == paren2.chromosome[index]).sum()\n",
    "            \n",
    "            if( total_count > occur_count ):\n",
    "                child1[c1index] = paren2.chromosome[index]\n",
    "                c1index = (c1index + 1) % len(self.chromosome) \n",
    "                \n",
    "        c2index = j\n",
    "        for index in range(len(self.chromosome)):\n",
    "            occur_count = (child2 == self.chromosome[index]).sum()\n",
    "            total_count = (self.chromosome == self.chromosome[index]).sum()\n",
    "            \n",
    "            if( total_count > occur_count ):\n",
    "                child2[c2index] = self.chromosome[index]\n",
    "                c2index = (c2index + 1) % len(self.chromosome) \n",
    "\n",
    "        return(np.array([Individual(child1, self.stockLength, self.requests), Individual(child2, self.stockLength, self.requests)]))\n",
    "    \n",
    "    def mutation(self):\n",
    "        tmp = self.chromosome.copy()\n",
    "        for _ in range(2):\n",
    "                idx = range(len(tmp))\n",
    "                i1, i2 = random.sample(idx, 2)\n",
    "                tmp[i1], tmp[i2] = tmp[i2], tmp[i1]\n",
    "        return Individual(tmp, self.stockLength, self.requests)    "
   ]
  },
  {
   "cell_type": "markdown",
   "metadata": {},
   "source": [
    "### Class: `GeneticAlgorithm`\n",
    "\n",
    "#### Description\n",
    "\n",
    "This class implements a genetic algorithm for solving the cutting stock problem. The genetic algorithm involves creating a population of individuals, applying selection, crossover, and mutation operations to evolve the population over multiple generations.\n",
    "\n",
    "#### Constructor\n",
    "\n",
    "##### `__init__(self, inputId) -> None`\n",
    "\n",
    "- **Description:** Constructor for the `GeneticAlgorithm` class.\n",
    "\n",
    "- **Parameters:**\n",
    "  - `inputId`: The identifier for the input data.\n",
    "\n",
    "#### Methods\n",
    "\n",
    "##### `initiatePopulation(self) -> None`\n",
    "\n",
    "- **Description:** Initializes the population of individuals with random chromosomes.\n",
    "\n",
    "##### `tournamentSelection(self) -> Tuple[Individual, Individual]`\n",
    "\n",
    "- **Description:** Selects individuals from the population using tournament selection.\n",
    "\n",
    "- **Returns:**\n",
    "  - Tuple[Individual, Individual]: Two selected individuals.\n",
    "\n",
    "##### `execute(self) -> None`\n",
    "\n",
    "- **Description:** Executes the genetic algorithm to evolve the population and find the optimal solution.\n"
   ]
  },
  {
   "cell_type": "code",
   "execution_count": 265,
   "metadata": {},
   "outputs": [],
   "source": [
    "class GeneticAlgorithm:\n",
    "\n",
    "    POPULATION_SIZE = 100\n",
    "    MAX_GENERATION_NUMBER = 2000\n",
    "    TOURNOMANT_SELECTION_T = 9\n",
    "    \n",
    "\n",
    "    def __init__(self, inputId) -> None:\n",
    "        self.inputId = inputId\n",
    "        self.stockLength, self.requests, self.answer = Input.read(inputId)\n",
    "        self.initialChrmosome = [i for i in range(len(self.requests))]\n",
    "        self.population = np.array([])\n",
    "\n",
    "    def initaiatePopulation(self) -> None:\n",
    "        for _ in range(self.POPULATION_SIZE):\n",
    "            self.population = np.append(self.population, (Individual(Individual.createChromosome(np.array(self.initialChrmosome)), self.stockLength, self.requests)))\n",
    "\n",
    "    def tournomantSelection(self):\n",
    "        p1, p2 = random.choices(self.population, k = self.TOURNOMANT_SELECTION_T), random.choices(self.population, k = self.TOURNOMANT_SELECTION_T)\n",
    "        p1 , p2 = sorted(p1, key = lambda x:x.fitness, reverse=False), sorted(p2, key = lambda x:x.fitness, reverse=False)   \n",
    "        return p1[0], p2[0]\n",
    "\n",
    "    def execute(self):\n",
    "        self.initaiatePopulation()\n",
    "        \n",
    "        generation = 0\n",
    "\n",
    "        while generation < self.MAX_GENERATION_NUMBER / 2:\n",
    "            newGeneration = np.array([])\n",
    "\n",
    "            childNumber = 0\n",
    "\n",
    "            while childNumber < self.POPULATION_SIZE:\n",
    "\n",
    "                champ1, champ2 = self.tournomantSelection()\n",
    "                prob = random.random()\n",
    "\n",
    "                if(prob <= 0.2):\n",
    "                    newGeneration = np.append(newGeneration , champ1.mutation())\n",
    "                    newGeneration = np.append(newGeneration, champ2.mutation())\n",
    "\n",
    "                elif(prob<= 0.5):\n",
    "                    newGeneration = np.append(newGeneration, champ1)\n",
    "                    newGeneration = np.append(newGeneration, champ2)\n",
    "\n",
    "                else:\n",
    "                    newGeneration = np.append(newGeneration, champ1.crossover(champ2))\n",
    "\n",
    "                childNumber+=2\n",
    "      \n",
    "            self.population = newGeneration\n",
    "            generation += 1\n",
    "\n",
    "        sorted(self.population, key = lambda x:x.fitness, reverse=False)\n",
    "        print(\"Rolls number for input \" , inputId, \" is : \", self.population[0].fitness)"
   ]
  },
  {
   "cell_type": "markdown",
   "metadata": {},
   "source": [
    "#### Genetic Algorithm Results\n"
   ]
  },
  {
   "cell_type": "code",
   "execution_count": 267,
   "metadata": {},
   "outputs": [
    {
     "name": "stdout",
     "output_type": "stream",
     "text": [
      "Rolls number for input  1  is :  54\n",
      "Runtime for input 1 is :  25.523523807525635 seconds\n",
      "Rolls number for input  2  is :  78\n",
      "Runtime for input 2 is :  39.758034229278564 seconds\n",
      "Rolls number for input  3  is :  101\n",
      "Runtime for input 3 is :  182.8261890411377 seconds\n",
      "Rolls number for input  4  is :  224\n",
      "Runtime for input 4 is :  188.77592015266418 seconds\n"
     ]
    }
   ],
   "source": [
    "for inputId in range(1,5):\n",
    "     start = time()\n",
    "     ga = GeneticAlgorithm(inputId)\n",
    "     ga.execute()\n",
    "     end = time()\n",
    "     print(\"Runtime for input\", inputId , \"is : \" , end - start, \"seconds\")"
   ]
  },
  {
   "cell_type": "markdown",
   "metadata": {},
   "source": [
    "## Final Report:\n"
   ]
  },
  {
   "cell_type": "markdown",
   "metadata": {},
   "source": [
    "### HilmClimbing\n"
   ]
  },
  {
   "cell_type": "markdown",
   "metadata": {},
   "source": [
    "For this algorithm, we start by taking a permutation of the input as the initial request sequence and solve the problem using that order to prevent overfitting and ensure that our algorithm works independently of specific input data.\n",
    "\n",
    "Next, we run the algorithm for several iterations. After testing various values, I found that results stabilized around 2000 iterations, with no significant improvements beyond that. Setting the limit to 8000 iterations yielded the best results, and going beyond that didn’t provide noticeable gains.\n",
    "\n",
    "In each iteration, we generate several neighboring solutions to explore from our current state. Testing showed that three or four neighbors per iteration gave reasonable results, and these neighbors are generated by different types of permutations.\n",
    "\n",
    "In one permutation type, I randomly swap two pairs of elements. After experimenting with different values, two swaps produced the best outcome.\n",
    "\n",
    "In another permutation, I randomly swap three pairs of elements, and testing with different values showed three swaps worked best.\n",
    "\n",
    "Lastly, I created a permutation where three neighbors are calculated using the previous permutation, while the fourth is completely random. This step is a bit of a greedy move, as it allows a chance to stumble upon an optimal permutation, potentially leading us to the best solution.\n",
    "\n",
    "We evaluated each permutation and noted their results. After generating neighbors, we select the best one—the one with the minimum penalty.\n",
    "\n",
    "The process continues until we see no improvement over 8000 consecutive iterations, and then the final result is reported.\n",
    "\n",
    "An interesting observation was that if the best neighbor’s quality matched the previous one and I didn’t update it, results were weaker. Updating the neighbor in these cases consistently improved outcomes."
   ]
  },
  {
   "cell_type": "code",
   "execution_count": 274,
   "metadata": {},
   "outputs": [],
   "source": [
    "x, y = [], []\n",
    "for i in range(20):\n",
    "    hilmClimbing = HillClimbing(PermutationMethods.permutateRolls)\n",
    "    hilmClimbing.NUMBER_OF_NEIGHBORS = i+1\n",
    "    x.append(i+1)\n",
    "    y.append(hilmClimbing.execute(2)) ## check for second input"
   ]
  },
  {
   "cell_type": "code",
   "execution_count": 290,
   "metadata": {},
   "outputs": [
    {
     "data": {
      "text/plain": [
       "Text(0, 0.5, 'number of rolls')"
      ]
     },
     "execution_count": 290,
     "metadata": {},
     "output_type": "execute_result"
    },
    {
     "data": {
      "image/png": "[encoded data removed]",
      "text/plain": [
       "<Figure size 450x300 with 1 Axes>"
      ]
     },
     "metadata": {},
     "output_type": "display_data"
    }
   ],
   "source": [
    "plt.figure(figsize=(4.5,3))\n",
    "plt.plot(x, y, linewidth=1.0)\n",
    "plt.axis((0, 20, 72, 82))\n",
    "plt.xlabel(\"number of neighbors\")\n",
    "plt.ylabel(\"number of rolls\")"
   ]
  },
  {
   "cell_type": "code",
   "execution_count": 277,
   "metadata": {},
   "outputs": [],
   "source": [
    "bestNumberOfChilds = 10"
   ]
  },
  {
   "cell_type": "code",
   "execution_count": 297,
   "metadata": {},
   "outputs": [],
   "source": [
    "x, y = [], []\n",
    "for i in range(25):\n",
    "    hilmClimbing = HillClimbing(PermutationMethods.permutateRolls)\n",
    "    hilmClimbing.NUMBER_OF_NEIGHBORS = bestNumberOfChilds\n",
    "    hilmClimbing.HILL_CLIMBING_MAX_ITERATION = (i+1) * 400\n",
    "    x.append((i+1) * 400)\n",
    "    y.append(hilmClimbing.execute(2))"
   ]
  },
  {
   "cell_type": "code",
   "execution_count": 300,
   "metadata": {},
   "outputs": [
    {
     "data": {
      "text/plain": [
       "Text(0, 0.5, 'number of rolls')"
      ]
     },
     "execution_count": 300,
     "metadata": {},
     "output_type": "execute_result"
    },
    {
     "data": {
      "image/png": "[encoded data removed]",
      "text/plain": [
       "<Figure size 450x300 with 1 Axes>"
      ]
     },
     "metadata": {},
     "output_type": "display_data"
    }
   ],
   "source": [
    "plt.figure(figsize=(4.5,3))\n",
    "plt.plot(x, y, linewidth=1.0)\n",
    "plt.axis((400, 10000, 76, 82))\n",
    "plt.xlabel(\"number of iteration\")\n",
    "plt.ylabel(\"number of rolls\")"
   ]
  },
  {
   "cell_type": "code",
   "execution_count": 301,
   "metadata": {},
   "outputs": [],
   "source": [
    "bestNumberOfIterations = 4400"
   ]
  },
  {
   "cell_type": "code",
   "execution_count": 304,
   "metadata": {},
   "outputs": [
    {
     "name": "stdout",
     "output_type": "stream",
     "text": [
      "Rolls number for input  1  is :  50\n",
      "Rolls number for input  2  is :  78\n",
      "Rolls number for input  3  is :  95\n",
      "Rolls number for input  4  is :  211\n"
     ]
    }
   ],
   "source": [
    "hilmClimbing = HillClimbing(PermutationMethods.permutateRolls)\n",
    "hilmClimbing.HILL_CLIMBING_MAX_ITERATION = bestNumberOfIterations\n",
    "hilmClimbing.NUMBER_OF_NEIGHBORS = bestNumberOfChilds\n",
    "for inputId in range(1,5):\n",
    "    hilmClimbing.execute(inputId)"
   ]
  },
  {
   "cell_type": "markdown",
   "metadata": {},
   "source": [
    "### Seamulate Annealing\n"
   ]
  },
  {
   "cell_type": "markdown",
   "metadata": {},
   "source": [
    "This algorithm is generally designed and implemented similarly to the previous one, with one main difference: instead of selecting multiple candidates per iteration, it generates a single candidate. However, this algorithm also incorporates some random moves to help avoid getting stuck in local optima and improve the chances of finding a global solution.\n",
    "\n",
    "The algorithm doesn’t require extensive explanation, as it mostly uses functions introduced in the course. Various parameters, including different values for T, were tested to find the optimal configuration, and the results are displayed.\n",
    "\n",
    "Additionally, this algorithm was significantly faster than the previous one.\n",
    "\n",
    "Now, let's focus on finding the best parameters."
   ]
  },
  {
   "cell_type": "code",
   "execution_count": 310,
   "metadata": {},
   "outputs": [],
   "source": [
    "x , y = [], []\n",
    "for i in range(7):\n",
    "    tMin = 1\n",
    "    for _ in range(i+1):\n",
    "        tMin = tMin /10 \n",
    "    x.append(tMin)\n",
    "    sa = SimulateAnnealing(tMin=tMin, initialT= 100000.0, coolingRate= 0.99, neighborPrmutationFunc=PermutationMethods.permutateRolls)\n",
    "    y.append(sa.execute(2))"
   ]
  },
  {
   "cell_type": "code",
   "execution_count": 312,
   "metadata": {},
   "outputs": [
    {
     "data": {
      "text/plain": [
       "Text(0, 0.5, 'number of rolls')"
      ]
     },
     "execution_count": 312,
     "metadata": {},
     "output_type": "execute_result"
    },
    {
     "data": {
      "image/png": "[encoded data removed]",
      "text/plain": [
       "<Figure size 450x300 with 1 Axes>"
      ]
     },
     "metadata": {},
     "output_type": "display_data"
    }
   ],
   "source": [
    "plt.figure(figsize=(4.5,3))\n",
    "plt.plot(x, y, linewidth=1.0)\n",
    "plt.axis((0, 0.1, 76, 82))\n",
    "plt.xlabel(\"number of iteration\")\n",
    "plt.ylabel(\"number of rolls\")"
   ]
  },
  {
   "cell_type": "code",
   "execution_count": 313,
   "metadata": {},
   "outputs": [],
   "source": [
    "bestTMin = x[0]"
   ]
  },
  {
   "cell_type": "code",
   "execution_count": 314,
   "metadata": {},
   "outputs": [],
   "source": [
    "x , y = [], []\n",
    "for i in [0.97, 0.98, 0.99, 0.995 , 0.999, 0.9999]:\n",
    "    sa = SimulateAnnealing(tMin=bestTMin, initialT= 100000.0, coolingRate= i, neighborPrmutationFunc=PermutationMethods.permutateRolls)\n",
    "    y.append(sa.execute(2))"
   ]
  },
  {
   "cell_type": "code",
   "execution_count": 317,
   "metadata": {},
   "outputs": [
    {
     "data": {
      "text/plain": [
       "Text(0, 0.5, 'number of rolls')"
      ]
     },
     "execution_count": 317,
     "metadata": {},
     "output_type": "execute_result"
    },
    {
     "data": {
      "image/png": "[encoded data removed]",
      "text/plain": [
       "<Figure size 450x300 with 1 Axes>"
      ]
     },
     "metadata": {},
     "output_type": "display_data"
    }
   ],
   "source": [
    "plt.figure(figsize=(4.5,3))\n",
    "plt.plot(x, y, linewidth=1.0)\n",
    "plt.xlabel(\"number of iteration\")\n",
    "plt.ylabel(\"number of rolls\")\n"
   ]
  },
  {
   "cell_type": "code",
   "execution_count": 318,
   "metadata": {},
   "outputs": [],
   "source": [
    "bestCoolingRate = 0.9999"
   ]
  },
  {
   "cell_type": "code",
   "execution_count": 321,
   "metadata": {},
   "outputs": [
    {
     "name": "stdout",
     "output_type": "stream",
     "text": [
      "Rolls number for input  1  is :  51\n",
      "Rolls number for input  2  is :  78\n",
      "Rolls number for input  3  is :  94\n",
      "Rolls number for input  4  is :  210\n"
     ]
    }
   ],
   "source": [
    "for inputId in range(1,5):\n",
    "    sa = SimulateAnnealing(tMin=bestTMin, initialT= 100000.0, coolingRate= bestCoolingRate, neighborPrmutationFunc=PermutationMethods.permutateRolls)\n",
    "    sa.execute(inputId)"
   ]
  },
  {
   "cell_type": "markdown",
   "metadata": {},
   "source": [
    "### Genetic Algorithm\n"
   ]
  },
  {
   "cell_type": "markdown",
   "metadata": {},
   "source": [
    "This evolution-inspired algorithm starts by generating 100 random permutations of the input request indices to serve as the initial population (the value 100 is a parameter that yielded the best results after testing alternatives like 70 and 80).\n",
    "\n",
    "In each generation, we create a new population of the same size by producing offspring to replace the current population.\n",
    "\n",
    "To do this, we select half of the population as parent pairs using a tournament selection method: nine members are randomly chosen, and the one with the fewest penalty points becomes a parent.\n",
    "\n",
    "Each parent pair has three possible outcomes in an iteration:\n",
    "\n",
    "1. **Mutation**: With a 20% probability (determined through testing), we apply mutation by randomly swapping two pairs of elements in one of the parents.\n",
    "2. **No Change**: With a 30% probability, we leave the parent unchanged.\n",
    "3. **Crossover**: With a 50% probability, two random indices are generated, and we combine elements from one parent within these indices with elements from the other parent outside of them to create two offspring.\n",
    "\n",
    "This process repeats for 2000 generations (an empirically chosen number), after which the best (most optimized) offspring with the fewest penalty points is selected as the final result.\n"
   ]
  },
  {
   "cell_type": "markdown",
   "metadata": {},
   "source": [
    "The parameters used for the genetic algorithm were thoroughly tested to ensure optimal values. I tested various configurations, but due to the algorithm's length and time consumption, my laptop would freeze and slow down when generating plots. To work around this, I manually adjusted different values one by one, and the current parameters represent the best possible results I achieved."
   ]
  },
  {
   "cell_type": "markdown",
   "metadata": {},
   "source": [
    "##### $Author: Mohammad Zamani$\n",
    "\n",
    "##### $StuNumber: 610399135$\n"
   ]
  }
 ],
 "metadata": {
  "kernelspec": {
   "display_name": "Python 3",
   "language": "python",
   "name": "python3"
  },
  "language_info": {
   "codemirror_mode": {
    "name": "ipython",
    "version": 3
   },
   "file_extension": ".py",
   "mimetype": "text/x-python",
   "name": "python",
   "nbconvert_exporter": "python",
   "pygments_lexer": "ipython3",
   "version": "3.9.6"
  }
 },
 "nbformat": 4,
 "nbformat_minor": 2
}
